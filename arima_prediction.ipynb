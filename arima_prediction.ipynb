{
 "cells": [
  {
   "cell_type": "code",
   "execution_count": 1,
   "outputs": [],
   "source": [
    "import csv\n",
    "import numpy as np\n",
    "import pandas as pd\n",
    "import re\n",
    "from tqdm import tqdm\n",
    "import os\n",
    "import json\n",
    "from dateutil.relativedelta import relativedelta\n",
    "import datetime\n",
    "\n",
    "import warnings\n",
    "\n",
    "warnings.filterwarnings(\"ignore\")\n",
    "desired_width = 320\n",
    "pd.set_option('display.width', desired_width)\n",
    "pd.set_option('display.max_columns', 10)"
   ],
   "metadata": {
    "collapsed": false,
    "pycharm": {
     "name": "#%%\n",
     "is_executing": false
    }
   }
  },
  {
   "cell_type": "code",
   "execution_count": 2,
   "outputs": [
    {
     "data": {
      "text/plain": "                      Data                                     Nazwa produktu\n0      2021-02-28 23:52:46               PEPCO Ramka na clip 53x63 cm srebrna\n1      2021-02-28 23:50:05  shumee Ručně vyrobený kuchyňský dřez se sítkem...\n2      2021-02-28 23:50:05  shumee Venkovní solární sprcha se sprchovou hl...\n3      2021-02-28 23:48:57  Fontanna ze stali nierdzewnej do basenu ogrodo...\n4      2021-02-28 23:39:51  Krzesła biurowe, 2 szt., pomarańczowe, sztuczn...\n...                    ...                                                ...\n190543 2018-02-26 19:44:13                           Kod rabatowy: shumeeLOVE\n190544 2018-02-26 15:37:29                        U.S. Polo - 43481_47130 XXL\n190545 2018-02-26 15:20:26                       Made in Italia - FEDERICA 36\n190546 2018-02-26 02:08:48                     Versace Jeans - E1VPBBT1_75416\n190547 2018-02-26 02:08:48                           Kod rabatowy: shumeeLOVE\n\n[190548 rows x 2 columns]",
      "text/html": "<div>\n<style scoped>\n    .dataframe tbody tr th:only-of-type {\n        vertical-align: middle;\n    }\n\n    .dataframe tbody tr th {\n        vertical-align: top;\n    }\n\n    .dataframe thead th {\n        text-align: right;\n    }\n</style>\n<table border=\"1\" class=\"dataframe\">\n  <thead>\n    <tr style=\"text-align: right;\">\n      <th></th>\n      <th>Data</th>\n      <th>Nazwa produktu</th>\n    </tr>\n  </thead>\n  <tbody>\n    <tr>\n      <th>0</th>\n      <td>2021-02-28 23:52:46</td>\n      <td>PEPCO Ramka na clip 53x63 cm srebrna</td>\n    </tr>\n    <tr>\n      <th>1</th>\n      <td>2021-02-28 23:50:05</td>\n      <td>shumee Ručně vyrobený kuchyňský dřez se sítkem...</td>\n    </tr>\n    <tr>\n      <th>2</th>\n      <td>2021-02-28 23:50:05</td>\n      <td>shumee Venkovní solární sprcha se sprchovou hl...</td>\n    </tr>\n    <tr>\n      <th>3</th>\n      <td>2021-02-28 23:48:57</td>\n      <td>Fontanna ze stali nierdzewnej do basenu ogrodo...</td>\n    </tr>\n    <tr>\n      <th>4</th>\n      <td>2021-02-28 23:39:51</td>\n      <td>Krzesła biurowe, 2 szt., pomarańczowe, sztuczn...</td>\n    </tr>\n    <tr>\n      <th>...</th>\n      <td>...</td>\n      <td>...</td>\n    </tr>\n    <tr>\n      <th>190543</th>\n      <td>2018-02-26 19:44:13</td>\n      <td>Kod rabatowy: shumeeLOVE</td>\n    </tr>\n    <tr>\n      <th>190544</th>\n      <td>2018-02-26 15:37:29</td>\n      <td>U.S. Polo - 43481_47130 XXL</td>\n    </tr>\n    <tr>\n      <th>190545</th>\n      <td>2018-02-26 15:20:26</td>\n      <td>Made in Italia - FEDERICA 36</td>\n    </tr>\n    <tr>\n      <th>190546</th>\n      <td>2018-02-26 02:08:48</td>\n      <td>Versace Jeans - E1VPBBT1_75416</td>\n    </tr>\n    <tr>\n      <th>190547</th>\n      <td>2018-02-26 02:08:48</td>\n      <td>Kod rabatowy: shumeeLOVE</td>\n    </tr>\n  </tbody>\n</table>\n<p>190548 rows × 2 columns</p>\n</div>"
     },
     "metadata": {},
     "output_type": "execute_result",
     "execution_count": 2
    }
   ],
   "source": [
    "\n",
    "df_org = pd.read_excel('../data/shumee_mckinsey.xlsx', index_col=None, engine='openpyxl')\n",
    "\n",
    "df = df_org[['Data', 'Nazwa produktu']]\n",
    "df\n"
   ],
   "metadata": {
    "collapsed": false,
    "pycharm": {
     "name": "#%%\n",
     "is_executing": false
    }
   }
  },
  {
   "cell_type": "code",
   "execution_count": 3,
   "outputs": [],
   "source": [
    "\n",
    "clustered_productsJSON = None\n",
    "clustered_products = {}\n",
    "id_to_product = {}\n",
    "with open('../data/clustered_products.json') as f:\n",
    "    clustered_productsJSON = json.load(f)\n",
    "for i in range(len(clustered_productsJSON)):\n",
    "    for prd in clustered_productsJSON[i]:\n",
    "        clustered_products[prd] = i\n",
    "        id_to_product[i] = prd\n"
   ],
   "metadata": {
    "collapsed": false,
    "pycharm": {
     "name": "#%%\n",
     "is_executing": false
    }
   }
  },
  {
   "cell_type": "code",
   "execution_count": 4,
   "outputs": [],
   "source": [
    "\n",
    "# Przypisuję nazwę grupy jeśli istnieje, w przeciwnym wypadku nazwa produktu\n",
    "df['group_name'] = df['Nazwa produktu'].apply(\n",
    "    lambda x: id_to_product[clustered_products[x]] if x in clustered_products else x)\n",
    "df['months'] = df['Data'].dt.to_period('M')\n",
    "\n",
    "# df.drop('Data', inplace=True, axis=1)\n",
    "\n",
    "top_sales = df[['group_name', 'months']].groupby('group_name').count().sort_values(by='months', ascending=False)\n"
   ],
   "metadata": {
    "collapsed": false,
    "pycharm": {
     "name": "#%%\n",
     "is_executing": false
    }
   }
  },
  {
   "cell_type": "code",
   "execution_count": 5,
   "outputs": [
    {
     "name": "stdout",
     "text": [
      "Zakres sprzedaży:\n2018-08\n2021-02\n"
     ],
     "output_type": "stream"
    },
    {
     "data": {
      "text/plain": "<Figure size 432x288 with 1 Axes>",
      "image/png": "[encoded data removed]"
     },
     "metadata": {
      "needs_background": "light"
     },
     "output_type": "display_data"
    }
   ],
   "source": [
    "\n",
    "# od teraz analizuje jeden najlepiej sprzedający się produkt\n",
    "# TODO: pętla po wszystkich / top x produktach\n",
    "\n",
    "product_name = top_sales.iloc[0, :].name\n",
    "\n",
    "product_sales = df[df['group_name'] == product_name]\n",
    "product_sales_by_months = product_sales[['months', 'group_name']].groupby('months').count()\n",
    "product_sales_by_months.reset_index(level=0, inplace = True)\n",
    "product_sales_by_months.plot.line()\n",
    "product_sales_by_months.columns = ['ds', 'y']\n",
    "print('Zakres sprzedaży:')\n",
    "print(product_sales['months'].min())\n",
    "print(product_sales['months'].max())\n"
   ],
   "metadata": {
    "collapsed": false,
    "pycharm": {
     "name": "#%%\n",
     "is_executing": false
    }
   }
  },
  {
   "cell_type": "code",
   "execution_count": 6,
   "outputs": [
    {
     "name": "stdout",
     "text": [
      "predicted=155.638228, expected=248.000000\npredicted=253.634561, expected=163.000000\n",
      "predicted=171.645409, expected=251.000000\npredicted=202.862641, expected=305.000000\n",
      "predicted=247.729022, expected=239.000000\npredicted=272.827882, expected=263.000000\n",
      "predicted=259.477547, expected=265.000000\n",
      "predicted=227.413933, expected=138.000000\n",
      "predicted=183.047311, expected=104.000000\n",
      "predicted=139.361813, expected=121.000000\n"
     ],
     "output_type": "stream"
    },
    {
     "data": {
      "text/plain": "<Figure size 432x288 with 1 Axes>",
      "image/png": "[encoded data removed]"
     },
     "metadata": {
      "needs_background": "light"
     },
     "output_type": "display_data"
    }
   ],
   "source": [
    "\n",
    "#ARIMA\n",
    "from statsmodels.tsa.arima.model import ARIMA\n",
    "from matplotlib import pyplot\n",
    "from random import random\n",
    "\n",
    "# contrived dataset\n",
    "data = product_sales_by_months['y'].tolist()\n",
    "\n",
    "# ostatnie 10 do predykcji\n",
    "\n",
    "train, test = data[0:-10], data[-10:]\n",
    "history = [x for x in train]\n",
    "predictions = list()\n",
    "for t in range(len(test)):\n",
    "    model = ARIMA(history, order=(5,1,0))\n",
    "    model_fit = model.fit()\n",
    "    output = model_fit.forecast()\n",
    "    yhat = output[0]\n",
    "    predictions.append(yhat)\n",
    "    obs = test[t]\n",
    "    history.append(obs)\n",
    "    print('predicted=%f, expected=%f' % (yhat, obs))\n",
    "# evaluate forecasts\n",
    "# TODO: calculate MSE\n",
    "# rmse = sqrt(mean_squared_error(test, predictions))\n",
    "# print('Test RMSE: %.3f' % rmse)\n",
    "# plot forecasts against actual outcomes\n",
    "\n",
    "\n",
    "pyplot.plot(train+predictions, color='red', label='predicted')\n",
    "pyplot.plot(data, color='blue', label='true')\n",
    "pyplot.legend()\n",
    "pyplot.show()\n",
    "\n"
   ],
   "metadata": {
    "collapsed": false,
    "pycharm": {
     "name": "#%%\n",
     "is_executing": false
    }
   }
  }
 ],
 "metadata": {
  "kernelspec": {
   "display_name": "Python 3",
   "language": "python",
   "name": "python3"
  },
  "language_info": {
   "codemirror_mode": {
    "name": "ipython",
    "version": 3
   },
   "file_extension": ".py",
   "mimetype": "text/x-python",
   "name": "python",
   "nbconvert_exporter": "python",
   "pygments_lexer": "ipython3",
   "version": "3.8.5"
  },
  "pycharm": {
   "stem_cell": {
    "cell_type": "raw",
    "source": [],
    "metadata": {
     "collapsed": false
    }
   }
  }
 },
 "nbformat": 4,
 "nbformat_minor": 5
}
