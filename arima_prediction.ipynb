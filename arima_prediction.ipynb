{
 "cells": [
  {
   "cell_type": "code",
   "execution_count": 13,
   "outputs": [],
   "source": [
    "import csv\n",
    "import numpy as np\n",
    "import pandas as pd\n",
    "import re\n",
    "from tqdm import tqdm\n",
    "import os\n",
    "import json\n",
    "from dateutil.relativedelta import relativedelta\n",
    "import datetime\n",
    "\n",
    "import warnings\n",
    "\n",
    "warnings.filterwarnings(\"ignore\")\n",
    "desired_width = 320\n",
    "pd.set_option('display.width', desired_width)\n",
    "pd.set_option('display.max_columns', 10)"
   ],
   "metadata": {
    "collapsed": false,
    "pycharm": {
     "name": "#%%\n",
     "is_executing": false
    }
   }
  },
  {
   "cell_type": "code",
   "execution_count": null,
   "outputs": [],
   "source": [
    "\n",
    "df_org = pd.read_excel('../data/shumee_mckinsey.xlsx', index_col=None, engine='openpyxl')\n",
    "\n",
    "df = df_org[['Data', 'Nazwa produktu']]\n",
    "df\n"
   ],
   "metadata": {
    "collapsed": false,
    "pycharm": {
     "name": "#%%\n",
     "is_executing": true
    }
   }
  },
  {
   "cell_type": "code",
   "execution_count": null,
   "outputs": [],
   "source": [
    "\n",
    "clustered_productsJSON = None\n",
    "clustered_products = {}\n",
    "id_to_product = {}\n",
    "with open('../data/clustered_products.json') as f:\n",
    "    clustered_productsJSON = json.load(f)\n",
    "for i in range(len(clustered_productsJSON)):\n",
    "    for prd in clustered_productsJSON[i]:\n",
    "        clustered_products[prd] = i\n",
    "        id_to_product[i] = prd\n"
   ],
   "metadata": {
    "collapsed": false,
    "pycharm": {
     "name": "#%%\n",
     "is_executing": true
    }
   }
  },
  {
   "cell_type": "code",
   "execution_count": null,
   "outputs": [],
   "source": [
    "\n",
    "# Przypisuję nazwę grupy jeśli istnieje, w przeciwnym wypadku nazwa produktu\n",
    "df['group_name'] = df['Nazwa produktu'].apply(\n",
    "    lambda x: id_to_product[clustered_products[x]] if x in clustered_products else x)\n",
    "df['months'] = df['Data'].dt.to_period('M')\n",
    "\n",
    "# df.drop('Data', inplace=True, axis=1)\n",
    "\n",
    "top_sales = df[['group_name', 'months']].groupby('group_name').count().sort_values(by='months', ascending=False)\n"
   ],
   "metadata": {
    "collapsed": false,
    "pycharm": {
     "name": "#%%\n",
     "is_executing": true
    }
   }
  },
  {
   "cell_type": "code",
   "execution_count": null,
   "outputs": [],
   "source": [
    "\n",
    "# od teraz analizuje jeden najlepiej sprzedający się produkt\n",
    "# TODO: pętla po wszystkich / top x produktach\n",
    "\n",
    "product_name = top_sales.iloc[0, :].name\n",
    "\n",
    "product_sales = df[df['group_name'] == product_name]\n",
    "product_sales_by_months = product_sales[['months', 'group_name']].groupby('months').count()\n",
    "product_sales_by_months.reset_index(level=0, inplace = True)\n",
    "product_sales_by_months.plot.line()\n",
    "product_sales_by_months.columns = ['ds', 'y']\n",
    "print('Zakres sprzedaży:')\n",
    "print(product_sales['months'].min())\n",
    "print(product_sales['months'].max())\n"
   ],
   "metadata": {
    "collapsed": false,
    "pycharm": {
     "name": "#%%\n",
     "is_executing": true
    }
   }
  },
  {
   "cell_type": "code",
   "execution_count": null,
   "outputs": [],
   "source": [
    "\n",
    "#ARIMA\n",
    "from statsmodels.tsa.arima.model import ARIMA\n",
    "from matplotlib import pyplot\n",
    "from random import random\n",
    "\n",
    "# contrived dataset\n",
    "data = product_sales_by_months['y'].tolist()\n",
    "\n",
    "# ostatnie 5 do predykcji\n",
    "\n",
    "train, test = data[0:-10], data[-10:]\n",
    "history = [x for x in train]\n",
    "predictions = list()\n",
    "# line plot of residuals\n",
    "for t in range(len(test)):\n",
    "    model = ARIMA(history, order=(5,1,0))\n",
    "    model_fit = model.fit()\n",
    "    output = model_fit.forecast()\n",
    "    yhat = output[0]\n",
    "    predictions.append(yhat)\n",
    "    obs = test[t]\n",
    "    history.append(obs)\n",
    "    print('predicted=%f, expected=%f' % (yhat, obs))\n",
    "# evaluate forecasts\n",
    "# TODO: calculate MSE\n",
    "# rmse = sqrt(mean_squared_error(test, predictions))\n",
    "# print('Test RMSE: %.3f' % rmse)\n",
    "# plot forecasts against actual outcomes\n",
    "\n",
    "\n",
    "pyplot.plot(train+predictions, color='red', label='predicted')\n",
    "pyplot.plot(data, color='blue', label='true')\n",
    "pyplot.legend()\n",
    "pyplot.show()\n",
    "\n"
   ],
   "metadata": {
    "collapsed": false,
    "pycharm": {
     "name": "#%%\n",
     "is_executing": true
    }
   }
  }
 ],
 "metadata": {
  "kernelspec": {
   "display_name": "Python 3",
   "language": "python",
   "name": "python3"
  },
  "language_info": {
   "codemirror_mode": {
    "name": "ipython",
    "version": 3
   },
   "file_extension": ".py",
   "mimetype": "text/x-python",
   "name": "python",
   "nbconvert_exporter": "python",
   "pygments_lexer": "ipython3",
   "version": "3.8.5"
  },
  "pycharm": {
   "stem_cell": {
    "cell_type": "raw",
    "source": [],
    "metadata": {
     "collapsed": false
    }
   }
  }
 },
 "nbformat": 4,
 "nbformat_minor": 5
}