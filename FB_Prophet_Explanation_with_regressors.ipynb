{
 "cells": [
  {
   "cell_type": "code",
   "execution_count": 1,
   "id": "based-clock",
   "metadata": {},
   "outputs": [],
   "source": [
    "import pandas as pd\n",
    "from pandas.plotting import autocorrelation_plot\n",
    "import time\n",
    "import random\n",
    "import functools\n",
    "    \n",
    "from pytrends.request import TrendReq\n",
    "import matplotlib.pyplot as plt\n",
    "from prophet import Prophet\n",
    "\n",
    "from statsmodels.tsa.seasonal import seasonal_decompose\n",
    "\n",
    "from tqdm import tqdm\n",
    "from joblib import Parallel, delayed\n",
    "\n",
    "from datetime import date\n",
    "from dateutil.relativedelta import relativedelta\n",
    "from datetime import datetime\n",
    "\n",
    "from sklearn.metrics import mean_absolute_percentage_error\n",
    "from sklearn.metrics import mean_squared_error\n",
    "from sklearn.metrics import explained_variance_score\n",
    "from sklearn.metrics import mean_absolute_error"
   ]
  },
  {
   "cell_type": "code",
   "execution_count": 2,
   "id": "under-hammer",
   "metadata": {},
   "outputs": [
    {
     "data": {
      "text/plain": [
       "Index(['fontanna do basenu', 'przypinki', 'stojak na buty', 'puzzle',\n",
       "       'ściana gabionowa', 'zegar ścienny', 'dozownik mydła', 'dywan',\n",
       "       'pokrywa na basen', 'roleta',\n",
       "       ...\n",
       "       'zestaw pufów', 'zestaw ręczników', 'zestaw słupków',\n",
       "       'zestaw śrubokrętów', 'zestaw stół', 'zestaw stołków',\n",
       "       'zestaw stolików', 'zestaw stołowy', 'bombka z', 'żółto łańcuch'],\n",
       "      dtype='object', length=5569)"
      ]
     },
     "execution_count": 2,
     "metadata": {},
     "output_type": "execute_result"
    }
   ],
   "source": [
    "final_dataframe = pd.read_csv('./XAI-project/data/sells_time_series.csv', index_col=0)\n",
    "final_dataframe.index = pd.to_datetime(final_dataframe.index)\n",
    "\n",
    "final_dataframe.columns"
   ]
  },
  {
   "cell_type": "code",
   "execution_count": 3,
   "id": "durable-revolution",
   "metadata": {},
   "outputs": [],
   "source": [
    "def return_series(df, name, key_words = None):\n",
    "    \"\"\" \n",
    "    :param df: final_dataframe.\n",
    "    :param name: nazwa wybrenej grupy (klastra) produktów\n",
    "    :param key_words: key_words to lista słów dla których ma być wyszukany trend. Jeśli nie podacie nic, to domyślnie \n",
    "                      do key_words trafi nazwa produktów name\n",
    "    \"\"\"\n",
    "    \n",
    "    if key_words is None:\n",
    "        key_words = [name]\n",
    "    \n",
    "    ans = False\n",
    "    while ans == False:\n",
    "        try:\n",
    "            pytrends = TrendReq()\n",
    "            pytrends.build_payload(kw_list = key_words, timeframe='2018-02-01 2021-05-01', geo='PL')\n",
    "            if len(pytrends.interest_over_time()) == 0:\n",
    "                raise ValueError\n",
    "            ans = True\n",
    "        except:\n",
    "            print (\"Request: \", name, \"- status fail: Google 429\")\n",
    "            time.sleep(random.randint(15, 25))\n",
    "            pass\n",
    "    trends = pytrends.interest_over_time().resample('MS').sum().drop('isPartial', axis = 1)\n",
    "    sells = df[name]\n",
    "    return sells, trends\n",
    "    "
   ]
  },
  {
   "cell_type": "code",
   "execution_count": 4,
   "id": "czech-stretch",
   "metadata": {},
   "outputs": [],
   "source": [
    "def get_temperature():\n",
    "    temperatureDF = pd.read_csv('./XAI-project/data/temperature.csv')\n",
    "    temperatureDF['Średnia miesięczna temperatura [°C]'] = temperatureDF['Średnia miesięczna temperatura [°C]'].astype('int64')\n",
    "    temperatureDF['Data'] = temperatureDF['Data'].apply(lambda x: date(*list(map(int, x.split('-')))))\n",
    "    return temperatureDF.set_index('Data').to_dict()['Średnia miesięczna temperatura [°C]']\n",
    "    \n",
    "def get_covid_cases():\n",
    "    covidDF = pd.read_csv('./XAI-project/data/covid.csv')\n",
    "    covidDF['Data'] = covidDF['Data'].apply(lambda x: date(*list(map(int, x.split('-'))))).apply(lambda x: x.replace(day=1))\n",
    "    covidDict = covidDF.groupby('Data').sum().to_dict()['Nowe przypadki']\n",
    "    covidCases = {}\n",
    "    begin = date(2018, 2, 1)\n",
    "    end = date(2021, 3, 1)\n",
    "    while (begin < end):\n",
    "        if begin in covidDict:\n",
    "            covidCases[begin] = covidDict[begin]\n",
    "        else:\n",
    "            covidCases[begin]=0\n",
    "        begin += relativedelta(months=+1)\n",
    "    return covidCases\n",
    "\n",
    "def prepareDF(name, temp, covidCases):\n",
    "    future_periods = 2\n",
    "    sells, trends = return_series(df = final_dataframe, name = name)\n",
    "    whole_sells = final_dataframe.apply(lambda row: sum(row), axis=1)\n",
    "    normalized_sells = sells.values / whole_sells\n",
    "    sellsPrd = pd.DataFrame({'ds': list(sells.index), 'y': (normalized_sells / max(normalized_sells) * 100), 'trends':trends.values.squeeze()[:-future_periods], 'whole_sells':whole_sells})\n",
    "    sellsPrd['cap'] = 100\n",
    "    sellsPrd['floor'] = 0\n",
    "    sellsPrd['ds'] = sellsPrd['ds'].dt.date\n",
    "    sellsPrd['temp'] = sellsPrd['ds'].apply(lambda x: temp[x])\n",
    "    sellsPrd['covid'] = sellsPrd['ds'].apply(lambda x: covidCases[x])\n",
    "    return sellsPrd\n",
    "\n",
    "temp = get_temperature()\n",
    "covid = get_covid_cases()\n",
    "\n",
    "# sells = prepareDF('zegar ścienny', temp, covid)\n",
    "# sells"
   ]
  },
  {
   "cell_type": "code",
   "execution_count": 63,
   "id": "stuffed-korea",
   "metadata": {},
   "outputs": [],
   "source": [
    "def normalize(fi):\n",
    "    acc = 0\n",
    "    sv = abs([acc := acc + x[0] for x in fi][-1])\n",
    "    return list(map(lambda x: (x[0]/sv, x[1]), fi))\n",
    "\n",
    "def percent_error_FB_Prophet (train_DF, test_DF, columns, **params):\n",
    "    m = Prophet(**params)\n",
    "    for reg in columns:\n",
    "        m.add_regressor(reg)\n",
    "    m.fit(train_DF)\n",
    "    forecast = m.predict(test_DF)\n",
    "    y_pred = list(forecast['yhat'])\n",
    "    y_true = list(test_DF['y'])\n",
    "#     print(columns)\n",
    "#     print('MSE:  ', mean_squared_error(y_true, y_pred))\n",
    "#     print('MAE:  ', mean_absolute_error(y_true, y_pred))\n",
    "#     print('MAPE: ', mean_absolute_percentage_error(y_true, y_pred))\n",
    "#     print('EVS:  ', explained_variance_score(y_true, y_pred))\n",
    "#     return mean_absolute_error(y_true, y_pred)\n",
    "    #     return explained_variance_score(y_true, y_pred)\n",
    "#     return mean_squared_error(y_true, y_pred)\n",
    "    return mean_absolute_percentage_error(y_true, y_pred)\n",
    "    \n",
    "\n",
    "def feature_importance (train_DF, test_DF, columns=None, **params):\n",
    "    if columns == None:\n",
    "        columns = [item for item in list(train_DF.columns) if item not in ['ds', 'y', 'cap', 'floor']]\n",
    "    \n",
    "    error_whole_model = percent_error_FB_Prophet(train_DF, test_DF, columns, **params)\n",
    "    importance = []\n",
    "    \n",
    "    for toDrop in columns:\n",
    "        columnsStay = [item for item in columns if item not in [toDrop]]\n",
    "        error = percent_error_FB_Prophet(train_DF, test_DF, columnsStay, **params)\n",
    "        importance.append((error-error_whole_model, toDrop))\n",
    "    importance.sort(reverse=True)\n",
    "    return normalize(importance)\n",
    "\n",
    "def merge_feature_importances(FI):\n",
    "    merged_feature_importance = {}\n",
    "    for fi in FI:\n",
    "        for w, att in fi:\n",
    "            if att in merged_feature_importance:\n",
    "                merged_feature_importance[att] += w\n",
    "            else:\n",
    "                merged_feature_importance[att] = w\n",
    "    merged_feature_importance_lst = []\n",
    "    for k in merged_feature_importance:\n",
    "#         merged_feature_importance[k] /= len(FI)\n",
    "        merged_feature_importance_lst.append((merged_feature_importance[k], k))\n",
    "    merged_feature_importance_lst.sort(reverse=True)\n",
    "    return normalize(merged_feature_importance_lst)\n",
    "\n",
    "def feature_importance_merge_products(products, splitDate=None):\n",
    "    temp = get_temperature()\n",
    "    covid = get_covid_cases()\n",
    "    if splitDate == None:\n",
    "        splitDate = date(2020, 12, 1)\n",
    "    FI = []\n",
    "    for prod in products:\n",
    "        sells = prepareDF(prod, temp, covid)\n",
    "        train_DF = sells.loc[(sells['ds'] < splitDate)]\n",
    "        test_DF = sells.loc[(sells['ds'] >= splitDate)]\n",
    "        FI.append(feature_importance(train_DF, test_DF))\n",
    "    return merge_feature_importances(FI)"
   ]
  },
  {
   "cell_type": "code",
   "execution_count": 64,
   "id": "timely-ecology",
   "metadata": {},
   "outputs": [
    {
     "name": "stderr",
     "output_type": "stream",
     "text": [
      "INFO:prophet:Disabling weekly seasonality. Run prophet with weekly_seasonality=True to override this.\n",
      "INFO:prophet:Disabling daily seasonality. Run prophet with daily_seasonality=True to override this.\n",
      "INFO:prophet:Disabling weekly seasonality. Run prophet with weekly_seasonality=True to override this.\n",
      "INFO:prophet:Disabling daily seasonality. Run prophet with daily_seasonality=True to override this.\n",
      "INFO:prophet:Disabling weekly seasonality. Run prophet with weekly_seasonality=True to override this.\n",
      "INFO:prophet:Disabling daily seasonality. Run prophet with daily_seasonality=True to override this.\n",
      "INFO:prophet:Disabling weekly seasonality. Run prophet with weekly_seasonality=True to override this.\n",
      "INFO:prophet:Disabling daily seasonality. Run prophet with daily_seasonality=True to override this.\n",
      "INFO:prophet:Disabling weekly seasonality. Run prophet with weekly_seasonality=True to override this.\n",
      "INFO:prophet:Disabling daily seasonality. Run prophet with daily_seasonality=True to override this.\n"
     ]
    },
    {
     "name": "stdout",
     "output_type": "stream",
     "text": [
      "Request:  rama łóżka - status fail: Google 429\n"
     ]
    },
    {
     "ename": "KeyboardInterrupt",
     "evalue": "",
     "output_type": "error",
     "traceback": [
      "\u001b[0;31m---------------------------------------------------------------------------\u001b[0m",
      "\u001b[0;31mResponseError\u001b[0m                             Traceback (most recent call last)",
      "\u001b[0;32m<ipython-input-3-624236293a5e>\u001b[0m in \u001b[0;36mreturn_series\u001b[0;34m(df, name, key_words)\u001b[0m\n\u001b[1;32m     15\u001b[0m             \u001b[0mpytrends\u001b[0m \u001b[0;34m=\u001b[0m \u001b[0mTrendReq\u001b[0m\u001b[0;34m(\u001b[0m\u001b[0;34m)\u001b[0m\u001b[0;34m\u001b[0m\u001b[0;34m\u001b[0m\u001b[0m\n\u001b[0;32m---> 16\u001b[0;31m             \u001b[0mpytrends\u001b[0m\u001b[0;34m.\u001b[0m\u001b[0mbuild_payload\u001b[0m\u001b[0;34m(\u001b[0m\u001b[0mkw_list\u001b[0m \u001b[0;34m=\u001b[0m \u001b[0mkey_words\u001b[0m\u001b[0;34m,\u001b[0m \u001b[0mtimeframe\u001b[0m\u001b[0;34m=\u001b[0m\u001b[0;34m'2018-02-01 2021-05-01'\u001b[0m\u001b[0;34m,\u001b[0m \u001b[0mgeo\u001b[0m\u001b[0;34m=\u001b[0m\u001b[0;34m'PL'\u001b[0m\u001b[0;34m)\u001b[0m\u001b[0;34m\u001b[0m\u001b[0;34m\u001b[0m\u001b[0m\n\u001b[0m\u001b[1;32m     17\u001b[0m             \u001b[0;32mif\u001b[0m \u001b[0mlen\u001b[0m\u001b[0;34m(\u001b[0m\u001b[0mpytrends\u001b[0m\u001b[0;34m.\u001b[0m\u001b[0minterest_over_time\u001b[0m\u001b[0;34m(\u001b[0m\u001b[0;34m)\u001b[0m\u001b[0;34m)\u001b[0m \u001b[0;34m==\u001b[0m \u001b[0;36m0\u001b[0m\u001b[0;34m:\u001b[0m\u001b[0;34m\u001b[0m\u001b[0;34m\u001b[0m\u001b[0m\n",
      "\u001b[0;32m~/.local/lib/python3.8/site-packages/pytrends/request.py\u001b[0m in \u001b[0;36mbuild_payload\u001b[0;34m(self, kw_list, cat, timeframe, geo, gprop)\u001b[0m\n\u001b[1;32m    168\u001b[0m         \u001b[0;31m# get tokens\u001b[0m\u001b[0;34m\u001b[0m\u001b[0;34m\u001b[0m\u001b[0;34m\u001b[0m\u001b[0m\n\u001b[0;32m--> 169\u001b[0;31m         \u001b[0mself\u001b[0m\u001b[0;34m.\u001b[0m\u001b[0m_tokens\u001b[0m\u001b[0;34m(\u001b[0m\u001b[0;34m)\u001b[0m\u001b[0;34m\u001b[0m\u001b[0;34m\u001b[0m\u001b[0m\n\u001b[0m\u001b[1;32m    170\u001b[0m         \u001b[0;32mreturn\u001b[0m\u001b[0;34m\u001b[0m\u001b[0;34m\u001b[0m\u001b[0m\n",
      "\u001b[0;32m~/.local/lib/python3.8/site-packages/pytrends/request.py\u001b[0m in \u001b[0;36m_tokens\u001b[0;34m(self)\u001b[0m\n\u001b[1;32m    174\u001b[0m         \u001b[0;31m# make the request and parse the returned json\u001b[0m\u001b[0;34m\u001b[0m\u001b[0;34m\u001b[0m\u001b[0;34m\u001b[0m\u001b[0m\n\u001b[0;32m--> 175\u001b[0;31m         widget_dict = self._get_data(\n\u001b[0m\u001b[1;32m    176\u001b[0m             \u001b[0murl\u001b[0m\u001b[0;34m=\u001b[0m\u001b[0mTrendReq\u001b[0m\u001b[0;34m.\u001b[0m\u001b[0mGENERAL_URL\u001b[0m\u001b[0;34m,\u001b[0m\u001b[0;34m\u001b[0m\u001b[0;34m\u001b[0m\u001b[0m\n",
      "\u001b[0;32m~/.local/lib/python3.8/site-packages/pytrends/request.py\u001b[0m in \u001b[0;36m_get_data\u001b[0;34m(self, url, method, trim_chars, **kwargs)\u001b[0m\n\u001b[1;32m    144\u001b[0m             \u001b[0;31m# error\u001b[0m\u001b[0;34m\u001b[0m\u001b[0;34m\u001b[0m\u001b[0;34m\u001b[0m\u001b[0m\n\u001b[0;32m--> 145\u001b[0;31m             raise exceptions.ResponseError(\n\u001b[0m\u001b[1;32m    146\u001b[0m                 \u001b[0;34m'The request failed: Google returned a '\u001b[0m\u001b[0;34m\u001b[0m\u001b[0;34m\u001b[0m\u001b[0m\n",
      "\u001b[0;31mResponseError\u001b[0m: The request failed: Google returned a response with code 429.",
      "\nDuring handling of the above exception, another exception occurred:\n",
      "\u001b[0;31mKeyboardInterrupt\u001b[0m                         Traceback (most recent call last)",
      "\u001b[0;32m<ipython-input-64-bea56978b8b7>\u001b[0m in \u001b[0;36m<module>\u001b[0;34m\u001b[0m\n\u001b[0;32m----> 1\u001b[0;31m \u001b[0mfi\u001b[0m \u001b[0;34m=\u001b[0m \u001b[0mfeature_importance_merge_products\u001b[0m\u001b[0;34m(\u001b[0m\u001b[0;34m[\u001b[0m\u001b[0;34m'lampa'\u001b[0m\u001b[0;34m,\u001b[0m \u001b[0;34m'rama łóżka'\u001b[0m\u001b[0;34m,\u001b[0m \u001b[0;34m'dywan'\u001b[0m\u001b[0;34m,\u001b[0m \u001b[0;34m'markiza'\u001b[0m\u001b[0;34m,\u001b[0m \u001b[0;34m'zadaszenie do altany'\u001b[0m\u001b[0;34m,\u001b[0m \u001b[0;34m'szafka nocna'\u001b[0m\u001b[0;34m,\u001b[0m \u001b[0;34m'elastyczne pokrowce'\u001b[0m\u001b[0;34m,\u001b[0m \u001b[0;34m'nakładki na schody'\u001b[0m\u001b[0;34m,\u001b[0m \u001b[0;34m'zestaw mebli'\u001b[0m\u001b[0;34m,\u001b[0m \u001b[0;34m'parawan panelowy'\u001b[0m\u001b[0;34m]\u001b[0m\u001b[0;34m)\u001b[0m\u001b[0;34m\u001b[0m\u001b[0;34m\u001b[0m\u001b[0m\n\u001b[0m",
      "\u001b[0;32m<ipython-input-63-dbb438bca08e>\u001b[0m in \u001b[0;36mfeature_importance_merge_products\u001b[0;34m(products, splitDate)\u001b[0m\n\u001b[1;32m     59\u001b[0m     \u001b[0mFI\u001b[0m \u001b[0;34m=\u001b[0m \u001b[0;34m[\u001b[0m\u001b[0;34m]\u001b[0m\u001b[0;34m\u001b[0m\u001b[0;34m\u001b[0m\u001b[0m\n\u001b[1;32m     60\u001b[0m     \u001b[0;32mfor\u001b[0m \u001b[0mprod\u001b[0m \u001b[0;32min\u001b[0m \u001b[0mproducts\u001b[0m\u001b[0;34m:\u001b[0m\u001b[0;34m\u001b[0m\u001b[0;34m\u001b[0m\u001b[0m\n\u001b[0;32m---> 61\u001b[0;31m         \u001b[0msells\u001b[0m \u001b[0;34m=\u001b[0m \u001b[0mprepareDF\u001b[0m\u001b[0;34m(\u001b[0m\u001b[0mprod\u001b[0m\u001b[0;34m,\u001b[0m \u001b[0mtemp\u001b[0m\u001b[0;34m,\u001b[0m \u001b[0mcovid\u001b[0m\u001b[0;34m)\u001b[0m\u001b[0;34m\u001b[0m\u001b[0;34m\u001b[0m\u001b[0m\n\u001b[0m\u001b[1;32m     62\u001b[0m         \u001b[0mtrain_DF\u001b[0m \u001b[0;34m=\u001b[0m \u001b[0msells\u001b[0m\u001b[0;34m.\u001b[0m\u001b[0mloc\u001b[0m\u001b[0;34m[\u001b[0m\u001b[0;34m(\u001b[0m\u001b[0msells\u001b[0m\u001b[0;34m[\u001b[0m\u001b[0;34m'ds'\u001b[0m\u001b[0;34m]\u001b[0m \u001b[0;34m<\u001b[0m \u001b[0msplitDate\u001b[0m\u001b[0;34m)\u001b[0m\u001b[0;34m]\u001b[0m\u001b[0;34m\u001b[0m\u001b[0;34m\u001b[0m\u001b[0m\n\u001b[1;32m     63\u001b[0m         \u001b[0mtest_DF\u001b[0m \u001b[0;34m=\u001b[0m \u001b[0msells\u001b[0m\u001b[0;34m.\u001b[0m\u001b[0mloc\u001b[0m\u001b[0;34m[\u001b[0m\u001b[0;34m(\u001b[0m\u001b[0msells\u001b[0m\u001b[0;34m[\u001b[0m\u001b[0;34m'ds'\u001b[0m\u001b[0;34m]\u001b[0m \u001b[0;34m>=\u001b[0m \u001b[0msplitDate\u001b[0m\u001b[0;34m)\u001b[0m\u001b[0;34m]\u001b[0m\u001b[0;34m\u001b[0m\u001b[0;34m\u001b[0m\u001b[0m\n",
      "\u001b[0;32m<ipython-input-4-7f25baff5ff7>\u001b[0m in \u001b[0;36mprepareDF\u001b[0;34m(name, temp, covidCases)\u001b[0m\n\u001b[1;32m     22\u001b[0m \u001b[0;32mdef\u001b[0m \u001b[0mprepareDF\u001b[0m\u001b[0;34m(\u001b[0m\u001b[0mname\u001b[0m\u001b[0;34m,\u001b[0m \u001b[0mtemp\u001b[0m\u001b[0;34m,\u001b[0m \u001b[0mcovidCases\u001b[0m\u001b[0;34m)\u001b[0m\u001b[0;34m:\u001b[0m\u001b[0;34m\u001b[0m\u001b[0;34m\u001b[0m\u001b[0m\n\u001b[1;32m     23\u001b[0m     \u001b[0mfuture_periods\u001b[0m \u001b[0;34m=\u001b[0m \u001b[0;36m2\u001b[0m\u001b[0;34m\u001b[0m\u001b[0;34m\u001b[0m\u001b[0m\n\u001b[0;32m---> 24\u001b[0;31m     \u001b[0msells\u001b[0m\u001b[0;34m,\u001b[0m \u001b[0mtrends\u001b[0m \u001b[0;34m=\u001b[0m \u001b[0mreturn_series\u001b[0m\u001b[0;34m(\u001b[0m\u001b[0mdf\u001b[0m \u001b[0;34m=\u001b[0m \u001b[0mfinal_dataframe\u001b[0m\u001b[0;34m,\u001b[0m \u001b[0mname\u001b[0m \u001b[0;34m=\u001b[0m \u001b[0mname\u001b[0m\u001b[0;34m)\u001b[0m\u001b[0;34m\u001b[0m\u001b[0;34m\u001b[0m\u001b[0m\n\u001b[0m\u001b[1;32m     25\u001b[0m     \u001b[0mwhole_sells\u001b[0m \u001b[0;34m=\u001b[0m \u001b[0mfinal_dataframe\u001b[0m\u001b[0;34m.\u001b[0m\u001b[0mapply\u001b[0m\u001b[0;34m(\u001b[0m\u001b[0;32mlambda\u001b[0m \u001b[0mrow\u001b[0m\u001b[0;34m:\u001b[0m \u001b[0msum\u001b[0m\u001b[0;34m(\u001b[0m\u001b[0mrow\u001b[0m\u001b[0;34m)\u001b[0m\u001b[0;34m,\u001b[0m \u001b[0maxis\u001b[0m\u001b[0;34m=\u001b[0m\u001b[0;36m1\u001b[0m\u001b[0;34m)\u001b[0m\u001b[0;34m\u001b[0m\u001b[0;34m\u001b[0m\u001b[0m\n\u001b[1;32m     26\u001b[0m     \u001b[0mnormalized_sells\u001b[0m \u001b[0;34m=\u001b[0m \u001b[0msells\u001b[0m\u001b[0;34m.\u001b[0m\u001b[0mvalues\u001b[0m \u001b[0;34m/\u001b[0m \u001b[0mwhole_sells\u001b[0m\u001b[0;34m\u001b[0m\u001b[0;34m\u001b[0m\u001b[0m\n",
      "\u001b[0;32m<ipython-input-3-624236293a5e>\u001b[0m in \u001b[0;36mreturn_series\u001b[0;34m(df, name, key_words)\u001b[0m\n\u001b[1;32m     20\u001b[0m         \u001b[0;32mexcept\u001b[0m\u001b[0;34m:\u001b[0m\u001b[0;34m\u001b[0m\u001b[0;34m\u001b[0m\u001b[0m\n\u001b[1;32m     21\u001b[0m             \u001b[0mprint\u001b[0m \u001b[0;34m(\u001b[0m\u001b[0;34m\"Request: \"\u001b[0m\u001b[0;34m,\u001b[0m \u001b[0mname\u001b[0m\u001b[0;34m,\u001b[0m \u001b[0;34m\"- status fail: Google 429\"\u001b[0m\u001b[0;34m)\u001b[0m\u001b[0;34m\u001b[0m\u001b[0;34m\u001b[0m\u001b[0m\n\u001b[0;32m---> 22\u001b[0;31m             \u001b[0mtime\u001b[0m\u001b[0;34m.\u001b[0m\u001b[0msleep\u001b[0m\u001b[0;34m(\u001b[0m\u001b[0mrandom\u001b[0m\u001b[0;34m.\u001b[0m\u001b[0mrandint\u001b[0m\u001b[0;34m(\u001b[0m\u001b[0;36m15\u001b[0m\u001b[0;34m,\u001b[0m \u001b[0;36m25\u001b[0m\u001b[0;34m)\u001b[0m\u001b[0;34m)\u001b[0m\u001b[0;34m\u001b[0m\u001b[0;34m\u001b[0m\u001b[0m\n\u001b[0m\u001b[1;32m     23\u001b[0m             \u001b[0;32mpass\u001b[0m\u001b[0;34m\u001b[0m\u001b[0;34m\u001b[0m\u001b[0m\n\u001b[1;32m     24\u001b[0m     \u001b[0mtrends\u001b[0m \u001b[0;34m=\u001b[0m \u001b[0mpytrends\u001b[0m\u001b[0;34m.\u001b[0m\u001b[0minterest_over_time\u001b[0m\u001b[0;34m(\u001b[0m\u001b[0;34m)\u001b[0m\u001b[0;34m.\u001b[0m\u001b[0mresample\u001b[0m\u001b[0;34m(\u001b[0m\u001b[0;34m'MS'\u001b[0m\u001b[0;34m)\u001b[0m\u001b[0;34m.\u001b[0m\u001b[0msum\u001b[0m\u001b[0;34m(\u001b[0m\u001b[0;34m)\u001b[0m\u001b[0;34m.\u001b[0m\u001b[0mdrop\u001b[0m\u001b[0;34m(\u001b[0m\u001b[0;34m'isPartial'\u001b[0m\u001b[0;34m,\u001b[0m \u001b[0maxis\u001b[0m \u001b[0;34m=\u001b[0m \u001b[0;36m1\u001b[0m\u001b[0;34m)\u001b[0m\u001b[0;34m\u001b[0m\u001b[0;34m\u001b[0m\u001b[0m\n",
      "\u001b[0;31mKeyboardInterrupt\u001b[0m: "
     ]
    }
   ],
   "source": [
    "fi = feature_importance_merge_products(['lampa', 'rama łóżka', 'dywan', 'markiza', 'zadaszenie do altany', 'szafka nocna', 'elastyczne pokrowce', 'nakładki na schody', 'zestaw mebli', 'parawan panelowy'])"
   ]
  },
  {
   "cell_type": "code",
   "execution_count": 44,
   "id": "positive-entrepreneur",
   "metadata": {},
   "outputs": [
    {
     "data": {
      "text/plain": [
       "[(0.5536362373765936, 'temp'),\n",
       " (0.16790293399962572, 'covid'),\n",
       " (0.14342398419383853, 'trends'),\n",
       " (0.13503684442994218, 'whole_sells')]"
      ]
     },
     "execution_count": 44,
     "metadata": {},
     "output_type": "execute_result"
    }
   ],
   "source": [
    "fontdobasenu = feature_importance_merge_products(['fontanna do basenu'])\n",
    "fontdobasenu"
   ]
  },
  {
   "cell_type": "code",
   "execution_count": 48,
   "id": "provincial-dictionary",
   "metadata": {},
   "outputs": [
    {
     "name": "stderr",
     "output_type": "stream",
     "text": [
      "INFO:prophet:Disabling weekly seasonality. Run prophet with weekly_seasonality=True to override this.\n",
      "INFO:prophet:Disabling daily seasonality. Run prophet with daily_seasonality=True to override this.\n",
      "INFO:prophet:Disabling weekly seasonality. Run prophet with weekly_seasonality=True to override this.\n",
      "INFO:prophet:Disabling daily seasonality. Run prophet with daily_seasonality=True to override this.\n"
     ]
    },
    {
     "name": "stdout",
     "output_type": "stream",
     "text": [
      "['trends', 'whole_sells', 'temp', 'covid']\n",
      "MSE:   1014.49758184044\n",
      "MAE:   29.833019971099116\n",
      "MAPE:  0.40018418775972026\n",
      "EVS:   -2.2227016461441758\n"
     ]
    },
    {
     "name": "stderr",
     "output_type": "stream",
     "text": [
      "INFO:prophet:Disabling weekly seasonality. Run prophet with weekly_seasonality=True to override this.\n",
      "INFO:prophet:Disabling daily seasonality. Run prophet with daily_seasonality=True to override this.\n"
     ]
    },
    {
     "name": "stdout",
     "output_type": "stream",
     "text": [
      "['whole_sells', 'temp', 'covid']\n",
      "MSE:   1659.4497416449615\n",
      "MAE:   35.410803004455126\n",
      "MAPE:  0.4585458679623362\n",
      "EVS:   -3.0130730899750606\n"
     ]
    },
    {
     "name": "stderr",
     "output_type": "stream",
     "text": [
      "INFO:prophet:Disabling weekly seasonality. Run prophet with weekly_seasonality=True to override this.\n",
      "INFO:prophet:Disabling daily seasonality. Run prophet with daily_seasonality=True to override this.\n"
     ]
    },
    {
     "name": "stdout",
     "output_type": "stream",
     "text": [
      "['trends', 'temp', 'covid']\n",
      "MSE:   2016.9119052709202\n",
      "MAE:   34.414651704738155\n",
      "MAPE:  0.42393261774284174\n",
      "EVS:   -1.6448022301890606\n"
     ]
    },
    {
     "name": "stderr",
     "output_type": "stream",
     "text": [
      "INFO:prophet:Disabling weekly seasonality. Run prophet with weekly_seasonality=True to override this.\n",
      "INFO:prophet:Disabling daily seasonality. Run prophet with daily_seasonality=True to override this.\n"
     ]
    },
    {
     "name": "stdout",
     "output_type": "stream",
     "text": [
      "['trends', 'whole_sells', 'covid']\n",
      "MSE:   1329.375092962816\n",
      "MAE:   35.58127795900307\n",
      "MAPE:  0.4945522333655393\n",
      "EVS:   -2.348755383387094\n",
      "['trends', 'whole_sells', 'temp']\n",
      "MSE:   829.5908615916427\n",
      "MAE:   28.37307121788616\n",
      "MAPE:  0.38810994362708834\n",
      "EVS:   -1.4596700180014994\n"
     ]
    }
   ],
   "source": [
    "zegarscienny = feature_importance_merge_products(['zegar ścienny'])\n",
    "zegarscienny"
   ]
  },
  {
   "cell_type": "code",
   "execution_count": 65,
   "id": "described-position",
   "metadata": {},
   "outputs": [
    {
     "name": "stdout",
     "output_type": "stream",
     "text": [
      "Request:  stojak na buty - status fail: Google 429\n"
     ]
    },
    {
     "ename": "KeyboardInterrupt",
     "evalue": "",
     "output_type": "error",
     "traceback": [
      "\u001b[0;31m---------------------------------------------------------------------------\u001b[0m",
      "\u001b[0;31mResponseError\u001b[0m                             Traceback (most recent call last)",
      "\u001b[0;32m<ipython-input-3-624236293a5e>\u001b[0m in \u001b[0;36mreturn_series\u001b[0;34m(df, name, key_words)\u001b[0m\n\u001b[1;32m     15\u001b[0m             \u001b[0mpytrends\u001b[0m \u001b[0;34m=\u001b[0m \u001b[0mTrendReq\u001b[0m\u001b[0;34m(\u001b[0m\u001b[0;34m)\u001b[0m\u001b[0;34m\u001b[0m\u001b[0;34m\u001b[0m\u001b[0m\n\u001b[0;32m---> 16\u001b[0;31m             \u001b[0mpytrends\u001b[0m\u001b[0;34m.\u001b[0m\u001b[0mbuild_payload\u001b[0m\u001b[0;34m(\u001b[0m\u001b[0mkw_list\u001b[0m \u001b[0;34m=\u001b[0m \u001b[0mkey_words\u001b[0m\u001b[0;34m,\u001b[0m \u001b[0mtimeframe\u001b[0m\u001b[0;34m=\u001b[0m\u001b[0;34m'2018-02-01 2021-05-01'\u001b[0m\u001b[0;34m,\u001b[0m \u001b[0mgeo\u001b[0m\u001b[0;34m=\u001b[0m\u001b[0;34m'PL'\u001b[0m\u001b[0;34m)\u001b[0m\u001b[0;34m\u001b[0m\u001b[0;34m\u001b[0m\u001b[0m\n\u001b[0m\u001b[1;32m     17\u001b[0m             \u001b[0;32mif\u001b[0m \u001b[0mlen\u001b[0m\u001b[0;34m(\u001b[0m\u001b[0mpytrends\u001b[0m\u001b[0;34m.\u001b[0m\u001b[0minterest_over_time\u001b[0m\u001b[0;34m(\u001b[0m\u001b[0;34m)\u001b[0m\u001b[0;34m)\u001b[0m \u001b[0;34m==\u001b[0m \u001b[0;36m0\u001b[0m\u001b[0;34m:\u001b[0m\u001b[0;34m\u001b[0m\u001b[0;34m\u001b[0m\u001b[0m\n",
      "\u001b[0;32m~/.local/lib/python3.8/site-packages/pytrends/request.py\u001b[0m in \u001b[0;36mbuild_payload\u001b[0;34m(self, kw_list, cat, timeframe, geo, gprop)\u001b[0m\n\u001b[1;32m    168\u001b[0m         \u001b[0;31m# get tokens\u001b[0m\u001b[0;34m\u001b[0m\u001b[0;34m\u001b[0m\u001b[0;34m\u001b[0m\u001b[0m\n\u001b[0;32m--> 169\u001b[0;31m         \u001b[0mself\u001b[0m\u001b[0;34m.\u001b[0m\u001b[0m_tokens\u001b[0m\u001b[0;34m(\u001b[0m\u001b[0;34m)\u001b[0m\u001b[0;34m\u001b[0m\u001b[0;34m\u001b[0m\u001b[0m\n\u001b[0m\u001b[1;32m    170\u001b[0m         \u001b[0;32mreturn\u001b[0m\u001b[0;34m\u001b[0m\u001b[0;34m\u001b[0m\u001b[0m\n",
      "\u001b[0;32m~/.local/lib/python3.8/site-packages/pytrends/request.py\u001b[0m in \u001b[0;36m_tokens\u001b[0;34m(self)\u001b[0m\n\u001b[1;32m    174\u001b[0m         \u001b[0;31m# make the request and parse the returned json\u001b[0m\u001b[0;34m\u001b[0m\u001b[0;34m\u001b[0m\u001b[0;34m\u001b[0m\u001b[0m\n\u001b[0;32m--> 175\u001b[0;31m         widget_dict = self._get_data(\n\u001b[0m\u001b[1;32m    176\u001b[0m             \u001b[0murl\u001b[0m\u001b[0;34m=\u001b[0m\u001b[0mTrendReq\u001b[0m\u001b[0;34m.\u001b[0m\u001b[0mGENERAL_URL\u001b[0m\u001b[0;34m,\u001b[0m\u001b[0;34m\u001b[0m\u001b[0;34m\u001b[0m\u001b[0m\n",
      "\u001b[0;32m~/.local/lib/python3.8/site-packages/pytrends/request.py\u001b[0m in \u001b[0;36m_get_data\u001b[0;34m(self, url, method, trim_chars, **kwargs)\u001b[0m\n\u001b[1;32m    144\u001b[0m             \u001b[0;31m# error\u001b[0m\u001b[0;34m\u001b[0m\u001b[0;34m\u001b[0m\u001b[0;34m\u001b[0m\u001b[0m\n\u001b[0;32m--> 145\u001b[0;31m             raise exceptions.ResponseError(\n\u001b[0m\u001b[1;32m    146\u001b[0m                 \u001b[0;34m'The request failed: Google returned a '\u001b[0m\u001b[0;34m\u001b[0m\u001b[0;34m\u001b[0m\u001b[0m\n",
      "\u001b[0;31mResponseError\u001b[0m: The request failed: Google returned a response with code 429.",
      "\nDuring handling of the above exception, another exception occurred:\n",
      "\u001b[0;31mKeyboardInterrupt\u001b[0m                         Traceback (most recent call last)",
      "\u001b[0;32m<ipython-input-65-8739da64d6b0>\u001b[0m in \u001b[0;36m<module>\u001b[0;34m\u001b[0m\n\u001b[0;32m----> 1\u001b[0;31m \u001b[0mstojaknabuty\u001b[0m \u001b[0;34m=\u001b[0m \u001b[0mfeature_importance_merge_products\u001b[0m\u001b[0;34m(\u001b[0m\u001b[0;34m[\u001b[0m\u001b[0;34m'stojak na buty'\u001b[0m\u001b[0;34m]\u001b[0m\u001b[0;34m)\u001b[0m\u001b[0;34m\u001b[0m\u001b[0;34m\u001b[0m\u001b[0m\n\u001b[0m\u001b[1;32m      2\u001b[0m \u001b[0mstojaknabuty\u001b[0m\u001b[0;34m\u001b[0m\u001b[0;34m\u001b[0m\u001b[0m\n",
      "\u001b[0;32m<ipython-input-63-dbb438bca08e>\u001b[0m in \u001b[0;36mfeature_importance_merge_products\u001b[0;34m(products, splitDate)\u001b[0m\n\u001b[1;32m     59\u001b[0m     \u001b[0mFI\u001b[0m \u001b[0;34m=\u001b[0m \u001b[0;34m[\u001b[0m\u001b[0;34m]\u001b[0m\u001b[0;34m\u001b[0m\u001b[0;34m\u001b[0m\u001b[0m\n\u001b[1;32m     60\u001b[0m     \u001b[0;32mfor\u001b[0m \u001b[0mprod\u001b[0m \u001b[0;32min\u001b[0m \u001b[0mproducts\u001b[0m\u001b[0;34m:\u001b[0m\u001b[0;34m\u001b[0m\u001b[0;34m\u001b[0m\u001b[0m\n\u001b[0;32m---> 61\u001b[0;31m         \u001b[0msells\u001b[0m \u001b[0;34m=\u001b[0m \u001b[0mprepareDF\u001b[0m\u001b[0;34m(\u001b[0m\u001b[0mprod\u001b[0m\u001b[0;34m,\u001b[0m \u001b[0mtemp\u001b[0m\u001b[0;34m,\u001b[0m \u001b[0mcovid\u001b[0m\u001b[0;34m)\u001b[0m\u001b[0;34m\u001b[0m\u001b[0;34m\u001b[0m\u001b[0m\n\u001b[0m\u001b[1;32m     62\u001b[0m         \u001b[0mtrain_DF\u001b[0m \u001b[0;34m=\u001b[0m \u001b[0msells\u001b[0m\u001b[0;34m.\u001b[0m\u001b[0mloc\u001b[0m\u001b[0;34m[\u001b[0m\u001b[0;34m(\u001b[0m\u001b[0msells\u001b[0m\u001b[0;34m[\u001b[0m\u001b[0;34m'ds'\u001b[0m\u001b[0;34m]\u001b[0m \u001b[0;34m<\u001b[0m \u001b[0msplitDate\u001b[0m\u001b[0;34m)\u001b[0m\u001b[0;34m]\u001b[0m\u001b[0;34m\u001b[0m\u001b[0;34m\u001b[0m\u001b[0m\n\u001b[1;32m     63\u001b[0m         \u001b[0mtest_DF\u001b[0m \u001b[0;34m=\u001b[0m \u001b[0msells\u001b[0m\u001b[0;34m.\u001b[0m\u001b[0mloc\u001b[0m\u001b[0;34m[\u001b[0m\u001b[0;34m(\u001b[0m\u001b[0msells\u001b[0m\u001b[0;34m[\u001b[0m\u001b[0;34m'ds'\u001b[0m\u001b[0;34m]\u001b[0m \u001b[0;34m>=\u001b[0m \u001b[0msplitDate\u001b[0m\u001b[0;34m)\u001b[0m\u001b[0;34m]\u001b[0m\u001b[0;34m\u001b[0m\u001b[0;34m\u001b[0m\u001b[0m\n",
      "\u001b[0;32m<ipython-input-4-7f25baff5ff7>\u001b[0m in \u001b[0;36mprepareDF\u001b[0;34m(name, temp, covidCases)\u001b[0m\n\u001b[1;32m     22\u001b[0m \u001b[0;32mdef\u001b[0m \u001b[0mprepareDF\u001b[0m\u001b[0;34m(\u001b[0m\u001b[0mname\u001b[0m\u001b[0;34m,\u001b[0m \u001b[0mtemp\u001b[0m\u001b[0;34m,\u001b[0m \u001b[0mcovidCases\u001b[0m\u001b[0;34m)\u001b[0m\u001b[0;34m:\u001b[0m\u001b[0;34m\u001b[0m\u001b[0;34m\u001b[0m\u001b[0m\n\u001b[1;32m     23\u001b[0m     \u001b[0mfuture_periods\u001b[0m \u001b[0;34m=\u001b[0m \u001b[0;36m2\u001b[0m\u001b[0;34m\u001b[0m\u001b[0;34m\u001b[0m\u001b[0m\n\u001b[0;32m---> 24\u001b[0;31m     \u001b[0msells\u001b[0m\u001b[0;34m,\u001b[0m \u001b[0mtrends\u001b[0m \u001b[0;34m=\u001b[0m \u001b[0mreturn_series\u001b[0m\u001b[0;34m(\u001b[0m\u001b[0mdf\u001b[0m \u001b[0;34m=\u001b[0m \u001b[0mfinal_dataframe\u001b[0m\u001b[0;34m,\u001b[0m \u001b[0mname\u001b[0m \u001b[0;34m=\u001b[0m \u001b[0mname\u001b[0m\u001b[0;34m)\u001b[0m\u001b[0;34m\u001b[0m\u001b[0;34m\u001b[0m\u001b[0m\n\u001b[0m\u001b[1;32m     25\u001b[0m     \u001b[0mwhole_sells\u001b[0m \u001b[0;34m=\u001b[0m \u001b[0mfinal_dataframe\u001b[0m\u001b[0;34m.\u001b[0m\u001b[0mapply\u001b[0m\u001b[0;34m(\u001b[0m\u001b[0;32mlambda\u001b[0m \u001b[0mrow\u001b[0m\u001b[0;34m:\u001b[0m \u001b[0msum\u001b[0m\u001b[0;34m(\u001b[0m\u001b[0mrow\u001b[0m\u001b[0;34m)\u001b[0m\u001b[0;34m,\u001b[0m \u001b[0maxis\u001b[0m\u001b[0;34m=\u001b[0m\u001b[0;36m1\u001b[0m\u001b[0;34m)\u001b[0m\u001b[0;34m\u001b[0m\u001b[0;34m\u001b[0m\u001b[0m\n\u001b[1;32m     26\u001b[0m     \u001b[0mnormalized_sells\u001b[0m \u001b[0;34m=\u001b[0m \u001b[0msells\u001b[0m\u001b[0;34m.\u001b[0m\u001b[0mvalues\u001b[0m \u001b[0;34m/\u001b[0m \u001b[0mwhole_sells\u001b[0m\u001b[0;34m\u001b[0m\u001b[0;34m\u001b[0m\u001b[0m\n",
      "\u001b[0;32m<ipython-input-3-624236293a5e>\u001b[0m in \u001b[0;36mreturn_series\u001b[0;34m(df, name, key_words)\u001b[0m\n\u001b[1;32m     20\u001b[0m         \u001b[0;32mexcept\u001b[0m\u001b[0;34m:\u001b[0m\u001b[0;34m\u001b[0m\u001b[0;34m\u001b[0m\u001b[0m\n\u001b[1;32m     21\u001b[0m             \u001b[0mprint\u001b[0m \u001b[0;34m(\u001b[0m\u001b[0;34m\"Request: \"\u001b[0m\u001b[0;34m,\u001b[0m \u001b[0mname\u001b[0m\u001b[0;34m,\u001b[0m \u001b[0;34m\"- status fail: Google 429\"\u001b[0m\u001b[0;34m)\u001b[0m\u001b[0;34m\u001b[0m\u001b[0;34m\u001b[0m\u001b[0m\n\u001b[0;32m---> 22\u001b[0;31m             \u001b[0mtime\u001b[0m\u001b[0;34m.\u001b[0m\u001b[0msleep\u001b[0m\u001b[0;34m(\u001b[0m\u001b[0mrandom\u001b[0m\u001b[0;34m.\u001b[0m\u001b[0mrandint\u001b[0m\u001b[0;34m(\u001b[0m\u001b[0;36m15\u001b[0m\u001b[0;34m,\u001b[0m \u001b[0;36m25\u001b[0m\u001b[0;34m)\u001b[0m\u001b[0;34m)\u001b[0m\u001b[0;34m\u001b[0m\u001b[0;34m\u001b[0m\u001b[0m\n\u001b[0m\u001b[1;32m     23\u001b[0m             \u001b[0;32mpass\u001b[0m\u001b[0;34m\u001b[0m\u001b[0;34m\u001b[0m\u001b[0m\n\u001b[1;32m     24\u001b[0m     \u001b[0mtrends\u001b[0m \u001b[0;34m=\u001b[0m \u001b[0mpytrends\u001b[0m\u001b[0;34m.\u001b[0m\u001b[0minterest_over_time\u001b[0m\u001b[0;34m(\u001b[0m\u001b[0;34m)\u001b[0m\u001b[0;34m.\u001b[0m\u001b[0mresample\u001b[0m\u001b[0;34m(\u001b[0m\u001b[0;34m'MS'\u001b[0m\u001b[0;34m)\u001b[0m\u001b[0;34m.\u001b[0m\u001b[0msum\u001b[0m\u001b[0;34m(\u001b[0m\u001b[0;34m)\u001b[0m\u001b[0;34m.\u001b[0m\u001b[0mdrop\u001b[0m\u001b[0;34m(\u001b[0m\u001b[0;34m'isPartial'\u001b[0m\u001b[0;34m,\u001b[0m \u001b[0maxis\u001b[0m \u001b[0;34m=\u001b[0m \u001b[0;36m1\u001b[0m\u001b[0;34m)\u001b[0m\u001b[0;34m\u001b[0m\u001b[0;34m\u001b[0m\u001b[0m\n",
      "\u001b[0;31mKeyboardInterrupt\u001b[0m: "
     ]
    }
   ],
   "source": [
    "stojaknabuty = feature_importance_merge_products(['stojak na buty'])\n",
    "stojaknabuty"
   ]
  },
  {
   "cell_type": "code",
   "execution_count": 58,
   "id": "complimentary-comfort",
   "metadata": {},
   "outputs": [
    {
     "data": {
      "text/plain": [
       "[(0.5638187279000676, 'temp'),\n",
       " (0.24920679624639164, 'trends'),\n",
       " (0.13974428881232562, 'whole_sells'),\n",
       " (0.04723018704121499, 'covid')]"
      ]
     },
     "execution_count": 58,
     "metadata": {},
     "output_type": "execute_result"
    }
   ],
   "source": [
    "merge_feature_importances([dc, zegarscienny])"
   ]
  },
  {
   "cell_type": "code",
   "execution_count": null,
   "id": "green-aviation",
   "metadata": {},
   "outputs": [],
   "source": [
    "merge_feature_importances([dc, zegarscienny, stojaknabuty])"
   ]
  }
 ],
 "metadata": {
  "kernelspec": {
   "display_name": "Python 3",
   "language": "python",
   "name": "python3"
  },
  "language_info": {
   "codemirror_mode": {
    "name": "ipython",
    "version": 3
   },
   "file_extension": ".py",
   "mimetype": "text/x-python",
   "name": "python",
   "nbconvert_exporter": "python",
   "pygments_lexer": "ipython3",
   "version": "3.8.5"
  }
 },
 "nbformat": 4,
 "nbformat_minor": 5
}
